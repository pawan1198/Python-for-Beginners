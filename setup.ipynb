{
 "cells": [
  {
   "cell_type": "markdown",
   "metadata": {},
   "source": [
    "(setup)=\n",
    "# Setting up the environment"
   ]
  },
  {
   "cell_type": "code",
   "execution_count": null,
   "metadata": {
    "tags": [
     "remove-input"
    ]
   },
   "outputs": [
    {
     "name": "stdout",
     "output_type": "stream",
     "text": [
      "Last updated: 2022-01-19 14:44:59\n"
     ]
    }
   ],
   "source": [
    "!echo Last updated: `date +\"%Y-%m-%d %H:%M:%S\"`"
   ]
  },
  {
   "cell_type": "markdown",
   "metadata": {},
   "source": [
    "*****"
   ]
  },
  {
   "cell_type": "markdown",
   "metadata": {},
   "source": [
    "## Introduction"
   ]
  },
  {
   "cell_type": "markdown",
   "metadata": {},
   "source": [
    "In this chapter we cover the prerequisites to setup the Python environment and interface, before we start with actually learning the Python language in the next chapters. As we will see, there are quite a few preliminary steps. "
   ]
  },
  {
   "cell_type": "markdown",
   "metadata": {},
   "source": [
    "More specifically, before starting to write Python code you need to install and learn how to use several software components:\n",
    "\n",
    "* **Miniconda**, which is a popular Python package manager, and includes the Python program itself (see {ref}`installing-miniconda` and {ref}`using-miniconda-command-line`)\n",
    "* The **Jupyter Notebook** interface, which can be installed from within Miniconda (see {ref}`jupyter` and {ref}`working-with-notebooks`) and is the de-facto standard editor for writing and executing Python code in the data science domain\n",
    "* Several Python **packages**, most importantly `numpy`, `pandas`, `shapely`, `geopandas`, and `rasterio`, which we are going to use in later chapters to work with arrays, tables, vector layers and rasters (see {ref}`packages`), also installed from within Miniconda"
   ]
  },
  {
   "cell_type": "markdown",
   "metadata": {},
   "source": [
    "We also cover the concept of *file paths* (see {ref}`file-paths`), which is essential for importing and exporting data from files in your Python scripts."
   ]
  },
  {
   "cell_type": "markdown",
   "metadata": {},
   "source": [
    "## Running Python code"
   ]
  },
  {
   "cell_type": "markdown",
   "metadata": {},
   "source": [
    "### Python setup"
   ]
  },
  {
   "cell_type": "markdown",
   "metadata": {},
   "source": [
    "Python is an [interpreted](https://en.wikipedia.org/wiki/Interpreter_(computing)) programming language. This means that the expressions we write in the Python language are executed one by one by the software component knows as the *interpreter*. This is unlike [complied](https://en.wikipedia.org/wiki/Compiled_language) languages, which are more difficult to work with, such as the C language, where the entire script needs to be translated to an executable file before it can be run. The interpreter runs one expression at a time, returning the results or performing other operations (such as writing to a file) as it goes along our code. "
   ]
  },
  {
   "cell_type": "markdown",
   "metadata": {},
   "source": [
    "There are several types of working environments that facilitate writing and running Python code. The common feature of all those environments is that they communicate with the Python interpreter. However, each environment also has other features that facilitate writing code and viewing the results. Python working environments include {ref}`python-command-line`, {ref}`ipython`, and {ref}`jupyter`."
   ]
  },
  {
   "cell_type": "markdown",
   "metadata": {},
   "source": [
    "The Python program itself, as well as the environments used to access it and manage its packages ({ref}`packages`), are bundled into various software packages. For example, Python can be downloaded and installed in a minimalist [standalone program](https://www.python.org/downloads/) ({numref}`python-homepage`), or as part of a package management system, such as [Anaconda](https://www.anaconda.com/) or [Miniconda](https://docs.conda.io/en/latest/miniconda.html). Python is also commonly incorporated into other software installations, including GIS software such as QGIS, ArcGIS or ArcPro, where it can be accessed through an internal command line ({ref}`arcpro`)."
   ]
  },
  {
   "cell_type": "markdown",
   "metadata": {},
   "source": [
    "Python setup methods and environemnts are notoriously variable, whereas multiple Python versions on the same computer may conflict and \"break\" ({numref}`python-xkcd`). In this chapter we aim to use one of the simplest and safest methods, based on Miniconda."
   ]
  },
  {
   "cell_type": "markdown",
   "metadata": {},
   "source": [
    "```{figure} images/python_environment_2x.png\n",
    "---\n",
    "name: python-xkcd\n",
    "width: 60%\n",
    "---\n",
    "Setting up Python (source: <https://xkcd.com/1987/>)\n",
    "```"
   ]
  },
  {
   "cell_type": "markdown",
   "metadata": {},
   "source": [
    "### What software will we use?"
   ]
  },
  {
   "cell_type": "markdown",
   "metadata": {},
   "source": [
    "In this chapter, we cover the software components that we are going to use for the rest of the book (except for the last chapter, {ref}`arcpro`)."
   ]
  },
  {
   "cell_type": "markdown",
   "metadata": {},
   "source": [
    "The main component we are going to use is the **Miniconda** software. Miniconda is the recommended way to install Python on your computer for the purposes described in this book. Miniconda is the minimalist version of the well-known **Anaconda** software. Miniconda includes just Python, the `conda` package manager for Python (see {ref}`installing-packages`), and few other packages, whereas Anaconda comes with over 250 pre-installed Python packages. However, the pre-installed packages in Anaconda do not include most spatial packages we are going to need."
   ]
  },
  {
   "cell_type": "markdown",
   "metadata": {},
   "source": [
    "All software components we need other than Miniconda, namely Jupyter Notebook and other Python packages, can be installed through the Miniconda command line. Therefore, a prerequisite to the following material is that you have Miniconda installed (see {ref}`installing-miniconda`), that you have access to the Miniconda command prompt ({numref}`miniconda-command-line`), and that you can run Miniconda as administrator to install the required packages (see {ref}`installing-packages`), or you have those packages already installed (e.g., by the IT administrator)."
   ]
  },
  {
   "cell_type": "markdown",
   "metadata": {},
   "source": [
    "It is important to note that Python, Miniconda, and the third-party Python packages we are going to use in this book are free and open-source. Therefore, you can flexibly use the material we are going to learn, later on in your carreer, in any setting and at no cost: at work in a commercial company, in the academy, in personal projects at home, and so on."
   ]
  },
  {
   "cell_type": "markdown",
   "metadata": {},
   "source": [
    "In the last chapter, we are going to use Python to automate a commercial software called ArcGIS Pro (see {ref}`arcpro`). ArcGIS Pro is paid software, and its installation and use is beyond the scope of this book. This chapter is intended for readers who are already working with ArcGIS Pro and would like to get a taste of enhancing their workflow using Python. "
   ]
  },
  {
   "cell_type": "markdown",
   "metadata": {},
   "source": [
    "The instructions in this chapter assume the Windows 10 operating system. "
   ]
  },
  {
   "cell_type": "markdown",
   "metadata": {},
   "source": [
    "(installing-miniconda)=\n",
    "## Installing Miniconda"
   ]
  },
  {
   "cell_type": "markdown",
   "metadata": {},
   "source": [
    "To install Miniconda, go to the Miniconda [website](https://docs.conda.io/en/latest/miniconda.html) ({numref}`miniconda-website`), choose the right installation file for your system (such as *Miniconda3 Windows 64-bit*), download the file and execute it to run the installation process."
   ]
  },
  {
   "cell_type": "markdown",
   "metadata": {},
   "source": [
    "```{figure} images/miniconda_website.png\n",
    "---\n",
    "name: miniconda-website\n",
    "---\n",
    "The Miniconda website with download links\n",
    "```"
   ]
  },
  {
   "cell_type": "markdown",
   "metadata": {},
   "source": [
    "```{note}\n",
    "Check out <https://autogis-site.readthedocs.io/en/latest/course-info/installing-miniconda.html> for another tutorial of the setup we go through in this chapter, namely installing Miniconda (see {ref}`installing-miniconda`) and Python packages (see {ref}`installing-packages`).\n",
    "```"
   ]
  },
  {
   "cell_type": "markdown",
   "metadata": {},
   "source": [
    "(using-miniconda-command-line)=\n",
    "## Using the miniconda command line"
   ]
  },
  {
   "cell_type": "markdown",
   "metadata": {},
   "source": [
    "### The Miniconda command line"
   ]
  },
  {
   "cell_type": "markdown",
   "metadata": {},
   "source": [
    "To start the miniconda command line, locate the **Anaconda Prompt (Miniconda3)** entry in your **Start** menu ({numref}`starting-anaconda-prompt`)."
   ]
  },
  {
   "cell_type": "markdown",
   "metadata": {},
   "source": [
    "```{figure} images/starting_anaconda_prompt.png\n",
    "---\n",
    "name: starting-anaconda-prompt\n",
    "---\n",
    "The \"Anaconda Prompt (Miniconda3)\" icon to start the miniconda prompt.\n",
    "```"
   ]
  },
  {
   "cell_type": "markdown",
   "metadata": {},
   "source": [
    "You should see a command line window ({numref}`miniconda-command-line`). Just like in any command-line interface, you can type and execute commands. For the purposes of this book, you need to be familiar with the following commands:\n",
    "\n",
    "* Commands to move through drives and directories:\n",
    "    * `cd`—Short for \"change directory\", to move through the directory structure (in the same drive), as in `cd C:\\Users\\dorman\\Downloads` \n",
    "    * `X:`—To switch to a different drive, type the drive name followed by colon, as in `D:` to switch to drive `D:\\`\n",
    "    * `dir`—To list current directory contents\n",
    "* Commands to run programs: \n",
    "    * `python`—Starting the Pyton command line interface (see {ref}`python-command-line`)\n",
    "    * `ipython`—Starting the IPython interface (see {ref}`ipython`)\n",
    "    * `jupyter notebook`—Starting the Jupyter Notebook interface (see {ref}`jupyter`)\n",
    "    * `conda install`—Installing third-party Python packages (see {ref}`installing-packages`)"
   ]
  },
  {
   "cell_type": "markdown",
   "metadata": {},
   "source": [
    "```{figure} images/miniconda_command_line.png\n",
    "---\n",
    "name: miniconda-command-line\n",
    "---\n",
    "The miniconda command line\n",
    "```"
   ]
  },
  {
   "cell_type": "markdown",
   "metadata": {},
   "source": [
    "Miniconda can thus be thought of as an extended version of the ordinary computer's command line (\"cmd\"), where the Python program (`python`) and Python package management tool (`conda`) are pre-installed. "
   ]
  },
  {
   "cell_type": "markdown",
   "metadata": {},
   "source": [
    "You can exit from the Miniconda command line by closing the window, or by typing `exit` and pressing **Enter**."
   ]
  },
  {
   "cell_type": "markdown",
   "metadata": {},
   "source": [
    "(python-command-line)=\n",
    "### The Python command line"
   ]
  },
  {
   "cell_type": "markdown",
   "metadata": {},
   "source": [
    "The first and simplest thing that the Miniconda command line provides, is the basic command-line interface to python, i.e., the `python` program. The Python command line can be accessed by typing `python` in the miniconda command line (see {ref}`using-miniconda-command-line`): "
   ]
  },
  {
   "cell_type": "markdown",
   "metadata": {},
   "source": [
    "```sh\n",
    "python\n",
    "```"
   ]
  },
  {
   "cell_type": "markdown",
   "metadata": {},
   "source": [
    "This opens the Python command line, which is marked by the `>>>` symbol. "
   ]
  },
  {
   "cell_type": "markdown",
   "metadata": {},
   "source": [
    "Once inside the Python command line, Python expressions can be typed and executed by pressing **Enter**. For example, {numref}`python-cli` shows what it looks like to open the Python command line and execute the two expressions, which define a `list` object (see {ref}`lists`) and print it:"
   ]
  },
  {
   "cell_type": "markdown",
   "metadata": {},
   "source": [
    "```python\n",
    "a = [1,2,3]\n",
    "print(a)\n",
    "```"
   ]
  },
  {
   "cell_type": "markdown",
   "metadata": {},
   "source": [
    "```{figure} images/python_cli_win.png\n",
    "---\n",
    "name: python-cli\n",
    "---\n",
    "Python interfaces: command line\n",
    "```"
   ]
  },
  {
   "cell_type": "markdown",
   "metadata": {},
   "source": [
    "The Python command line is convenient for experimenting with short and simple commands. When our code gets bigger and more complex, we usually prefer to keep it in persistent *code files* so that we can keep a record of our code, using Python script files (see {ref}`script-files`) or Jupyter notebooks (see {ref}`jupyter`). "
   ]
  },
  {
   "cell_type": "markdown",
   "metadata": {},
   "source": [
    "To exit the Python command line, and return to the miniconda command line, type `exit()` and press **Enter**:"
   ]
  },
  {
   "cell_type": "markdown",
   "metadata": {},
   "source": [
    "```py\n",
    "exit()\n",
    "```"
   ]
  },
  {
   "cell_type": "markdown",
   "metadata": {},
   "source": [
    "(script-files)=\n",
    "### Script files (`.py`)"
   ]
  },
  {
   "cell_type": "markdown",
   "metadata": {},
   "source": [
    "Python scripts are saved in `.py` files. A `.py` file contains nothing but python code. For example, here is the contents of a python code file, such as a file named `test.py`, which contains two expressions, for creating and printing a list:"
   ]
  },
  {
   "cell_type": "markdown",
   "metadata": {},
   "source": [
    "```python\n",
    "a = [1,2,3]\n",
    "print(a)\n",
    "```"
   ]
  },
  {
   "cell_type": "markdown",
   "metadata": {},
   "source": [
    "A Python script is a plain text file, conventionally with the `.py` file extension. A Python script can be created and edited using any plain text editor, whether a simple one such as [Notepad++](https://notepad-plus-plus.org/downloads/), or a specialized text editor for writing computer code such as [Visual Studio Code](https://code.visualstudio.com/) ({numref}`python-writing-script`)."
   ]
  },
  {
   "cell_type": "markdown",
   "metadata": {},
   "source": [
    "```{figure} images/python_writing_script.png\n",
    "---\n",
    "name: python-writing-script\n",
    "---\n",
    "Writing a Python script, a file named `test.py`\n",
    "```"
   ]
  },
  {
   "cell_type": "markdown",
   "metadata": {},
   "source": [
    "A python script can be executed in the command line, using an expression such as:"
   ]
  },
  {
   "cell_type": "markdown",
   "metadata": {},
   "source": [
    "```sh\n",
    "python test.py\n",
    "```"
   ]
  },
  {
   "cell_type": "markdown",
   "metadata": {},
   "source": [
    "where: \n",
    "\n",
    "* `python` is the name of the Python command line program ({ref}`python-command-line`), and \n",
    "* `test.py` is the filename (or file path) of a text file that contains the Python code to be executed."
   ]
  },
  {
   "cell_type": "markdown",
   "metadata": {},
   "source": [
    "As a result, the code is executed and any results are printed in the command line ({numref}`python-script`)."
   ]
  },
  {
   "cell_type": "markdown",
   "metadata": {},
   "source": [
    "```{figure} images/python_script_win.png\n",
    "---\n",
    "name: python-script\n",
    "---\n",
    "Python interfaces: running a Python script file\n",
    "```"
   ]
  },
  {
   "cell_type": "markdown",
   "metadata": {},
   "source": [
    "(ipython)=\n",
    "### IPython"
   ]
  },
  {
   "cell_type": "markdown",
   "metadata": {},
   "source": [
    "*IPython* can be thought of as an enhanced Python command-line application, with many additional features. For example, IPython introduces new helper commands (such as `?`, see {ref}`getting-help`), more sophisticated autocompletion, shortcuts for interacting with the operating system, and more ({numref}`python-ipython`). Importantly, working with IPython involves a series of cells, with code input (marked with `In`) and output (marked with `Out`). "
   ]
  },
  {
   "cell_type": "markdown",
   "metadata": {},
   "source": [
    "```{figure} images/python_ipython.png\n",
    "---\n",
    "name: python-ipython\n",
    "---\n",
    "Python interfaces: IPython\n",
    "```"
   ]
  },
  {
   "cell_type": "markdown",
   "metadata": {},
   "source": [
    "The IPython command line can be accessed by typing `ipython` in the miniconda command line (see {ref}`using-miniconda-command-line`): "
   ]
  },
  {
   "cell_type": "markdown",
   "metadata": {},
   "source": [
    "```sh\n",
    "ipython\n",
    "```"
   ]
  },
  {
   "cell_type": "markdown",
   "metadata": {},
   "source": [
    "You can exit from IPython (and return to the Miniconda command line) by typing `exit`, or `exit()`, and pressing **Enter**:"
   ]
  },
  {
   "cell_type": "markdown",
   "metadata": {},
   "source": [
    "```py\n",
    "exit\n",
    "```"
   ]
  },
  {
   "cell_type": "markdown",
   "metadata": {},
   "source": [
    "(jupyter)=\n",
    "### Jupyter Notebook"
   ]
  },
  {
   "cell_type": "markdown",
   "metadata": {},
   "source": [
    "The *Jupyter Notebook* interface is an extension of IPython, where, on top of the interactive interpreter and formatting, we also have a web interface to edit \"notebooks\" that permanently contain both the code and the output. Additionally, notebooks may contain formatted text, tables, images, equations, etc. ({numref}`python-jupyter`). "
   ]
  },
  {
   "cell_type": "markdown",
   "metadata": {},
   "source": [
    "```{figure} images/python_jupyter.png\n",
    "---\n",
    "name: python-jupyter\n",
    "---\n",
    "Python interfaces: Jupyter notebooks\n",
    "```"
   ]
  },
  {
   "cell_type": "markdown",
   "metadata": {},
   "source": [
    "There are two \"variants\" of the jupyter notebooks interface ({numref}`jupyter-interfaces`):\n",
    "\n",
    "* The \"classical\" *Jupyter Notebook* interface\n",
    "* The more recent and enhanced *Jupyter Lab* interface"
   ]
  },
  {
   "cell_type": "markdown",
   "metadata": {},
   "source": [
    "```{table} Jupyter interfaces\n",
    ":name: jupyter-interfaces\n",
    "\n",
    "| Interface | Command | Website |\n",
    "|---|---|---|\n",
    "| Jupyter Notebook | `jupyter notebook` | <https://jupyter-notebook.readthedocs.io/en/stable/> |\n",
    "| Jupyter Lab | `jupyter lab` | <https://jupyterlab.readthedocs.io/en/latest/> | \n",
    "```"
   ]
  },
  {
   "cell_type": "markdown",
   "metadata": {},
   "source": [
    "In short, Jupyter Lab is a newer interface, extending the Jupyter Notebook functionality with new editing capabilities and utilities for working with Python (such as a built-in Python console). Jupyter Notebook are the older more focused interface, which including just the \"notebook\" interface [^jupyter_interfaces_so]."
   ]
  },
  {
   "cell_type": "markdown",
   "metadata": {},
   "source": [
    "[^jupyter_interfaces_so]: See <https://stackoverflow.com/questions/50982686/what-is-the-difference-between-jupyter-notebook-and-jupyterlab> for more information about the difference between Jupyter Notebook and Jupyter Lab."
   ]
  },
  {
   "cell_type": "markdown",
   "metadata": {},
   "source": [
    "The Jupyter Notebook interface is a perfectly sufficient approach to run Python code for the purposes of this book, and in general. Therefore, in this chapter we demonstrate the Jupyter notebook interface. Note that these instructions are also applicable to Jupyter Lab, since it extends the Jupyter Notebook interface."
   ]
  },
  {
   "cell_type": "markdown",
   "metadata": {},
   "source": [
    "To use Jupyter Notebook, you need to install the Jupyter Lab package, similarly to the way that any other Python package is installed. The Jupyter Lab packages includes both the Jupyter Lab and the Jupyter Notebook interface programs. For example, when using miniconda, the following expression may be used to install Jupyter Lab: "
   ]
  },
  {
   "cell_type": "markdown",
   "metadata": {},
   "source": [
    "```sh\n",
    "conda install -c conda-forge jupyterlab\n",
    "```"
   ]
  },
  {
   "cell_type": "markdown",
   "metadata": {},
   "source": [
    "However, do not run the above command just yet! We are going to intruduce another command to install all required packages (including `jupyterlab`) at once later on (see {ref}`installing-packages`). If you do not have Jupyter Lab installed (e.g., you are working on your laptop and installed Miniconda from scratch), then jump to the {ref}`installing-packages` section and follow the instructions to install the packages we will be working with in this book, including Jupyter Lab. When done, go back to this section to experiment with the notebook interface."
   ]
  },
  {
   "cell_type": "markdown",
   "metadata": {},
   "source": [
    "```{note}\n",
    "The `-c conda-forge` part specifies that the \"channel\", or package repository, for downloading the package named `conda-forge` will be used instead of the default. The `conda-forge` channel is a community-maintained channel which contains the newest versions of Python packages, and therefore is recommended. The default channel is maintained by the commercial company Anaconda, it does not necessarily contain the newest versions of packages, and is subject to paid license in some commercial settings, whereas `conda-forge` is completely [free](<https://stackoverflow.com/questions/65256884/is-an-anaconda-commerical-edition-license-required-for-conda-forge-repositories>).\n",
    "```"
   ]
  },
  {
   "cell_type": "markdown",
   "metadata": {},
   "source": [
    "```{note}\n",
    "Remember that installing Python packages with Miniconda, including Jupyter notebooks (the `jupyterlab` package as shown above) or other packages (see {ref}`packages`), usually requires running the miniconda command line as an *administrator*. This can be done (on Windows 10) by right-clicking on the miniconda command line icon, then choosing **Run as administrator**.\n",
    "```"
   ]
  },
  {
   "cell_type": "markdown",
   "metadata": {},
   "source": [
    "To start the Jupyter Notebook interface, open the Miniconda command line, and navigate to the directory where your notebooks are stored (or where you would like to create a new notebook). Then, run `jupyter notebook` to start the Jupyter Notebook interface:"
   ]
  },
  {
   "cell_type": "markdown",
   "metadata": {},
   "source": [
    "```sh\n",
    "jupyter notebook\n",
    "```"
   ]
  },
  {
   "cell_type": "markdown",
   "metadata": {},
   "source": [
    "For example, if your working directory is `C:\\Users\\dorman\\Downloads`, then you need to start the miniconda command-line and run the following two expressions to open the Jupyter Notebook interface (for example, to create a new notebook):"
   ]
  },
  {
   "cell_type": "markdown",
   "metadata": {},
   "source": [
    "```sh\n",
    "cd C:\\Users\\dorman\\Downloads\n",
    "jupyter notebook\n",
    "```"
   ]
  },
  {
   "cell_type": "markdown",
   "metadata": {},
   "source": [
    "or the following expression to open an existing notebook named `code_01.ipynb`:"
   ]
  },
  {
   "cell_type": "markdown",
   "metadata": {},
   "source": [
    "```sh\n",
    "cd C:\\Users\\dorman\\Downloads\n",
    "jupyter notebook code_01.ipynb\n",
    "```"
   ]
  },
  {
   "cell_type": "markdown",
   "metadata": {},
   "source": [
    "```{note}\n",
    "`cd`, one of the most useful commands in the command line, stands for \"change directory\". Another useful command is `dir`, which prints directory contents. Try it out!\n",
    "```"
   ]
  },
  {
   "cell_type": "markdown",
   "metadata": {},
   "source": [
    "After running either `jupyter notebook` or `jupyter lab`, you should see some output printed in the console ({numref}`python-jupyter-started`). At the same time, the notebook interface should automatically open in the browser ({numref}`python-jupyter`)."
   ]
  },
  {
   "cell_type": "markdown",
   "metadata": {},
   "source": [
    "```{figure} images/python_jupyter_started.png\n",
    "---\n",
    "name: python-jupyter-started\n",
    "---\n",
    "Command line printout when running `jupyter notebook`\n",
    "```"
   ]
  },
  {
   "cell_type": "markdown",
   "metadata": {},
   "source": [
    "Jupyter notebooks are viewed and executed through a web browser, but they need to be connected to a running Python process. Therefore leave the console open as long as you are working with the Jupyter notebooks in the browser. When done, first close the Jupyter notebook tab(s) in the browser, and then terminate the `jupyter notebook` process with **Ctrl+C**."
   ]
  },
  {
   "cell_type": "markdown",
   "metadata": {},
   "source": [
    "(working-with-notebooks)=\n",
    "## Working with notebooks"
   ]
  },
  {
   "cell_type": "markdown",
   "metadata": {},
   "source": [
    "### Notebook files (`.ipynb`)"
   ]
  },
  {
   "cell_type": "markdown",
   "metadata": {},
   "source": [
    "Notebooks are saved as `.ipynb` files (short for \"**IPy**thon **n**ote**b**ook\"). `.ipynb` are plain text files, but more sophisticated ones then plain `.py` script files (see {ref}`script-files`). Importantly, `.ipynb` files contains not just Python code inputs, but also: \n",
    "\n",
    "* the division into separate \"cells\" (see {ref}`ipython`), \n",
    "* code outputs (see {ref}`jupyter-code-output`), both textual and graphical ones, resulting from previous evaluations of the code cells (see {ref}`executing-cells`), if any, and \n",
    "* non-code cells (see {ref}`jupyter-cell-types`). (Do not worry if these terms are not clear yet—we are going to demonstrate them shortly.)"
   ]
  },
  {
   "cell_type": "markdown",
   "metadata": {},
   "source": [
    "Accordingly, and unlike a plain `.py` script file, an `.ipynb` file does not make much sense when viewing and editing though an plain text editor. It is intended to be viewed and edited only through an interface that can process and display it, such as Jupyter Notebook. "
   ]
  },
  {
   "cell_type": "markdown",
   "metadata": {},
   "source": [
    "A notebook documents the Python workflow, so that it can be kept for future reference or shared with other people. "
   ]
  },
  {
   "cell_type": "markdown",
   "metadata": {},
   "source": [
    "To create a new notebook in the Jupyter Notebook interface:\n",
    "\n",
    "* Click on the **New** button (in the top-right of the screen)\n",
    "* Click on **Python 3**"
   ]
  },
  {
   "cell_type": "markdown",
   "metadata": {},
   "source": [
    "This should open a new browser tab displaying the new notebook. By default, the notebook will be named `Untitled.ipynb`. You can rename it through **File**→**Rename...** in the menu (or clicking on the file name, in the top ribbon). While working with the notebook, and before closing it, remember to save your progress using the **File**→**Save and Checkpoint**, or by pressing **Ctrl+S**."
   ]
  },
  {
   "cell_type": "markdown",
   "metadata": {},
   "source": [
    "You can also open an existing notebook, by running `jupyter notebook` and then choosing it in the file browser, which displays all files in the directory where the `jupyter notebook` command was executed. Alternatively, you can open a partucular notebook directly from the command line by specifying its name. For example, to open the notebook named `code_01.ipynb` in the current working directory run `jupyter notebook code_01.ipynb`."
   ]
  },
  {
   "cell_type": "markdown",
   "metadata": {},
   "source": [
    "```{admonition} Exercise 01-a\n",
    ":class: important\n",
    "* Open the Miniconda command line.\n",
    "* Navigate to your working directory, using a command such as `cd C:\\Users\\dorman\\Downloads`.\n",
    "* Start the Jupyter Notebook interface, using the `jupyter notebook` command.\n",
    "* Create a new Jupyter Notebook.\n",
    "* Rename the notebook to any name other than the default, such as `code_01.ipynb`.\n",
    "* Save the notebook.\n",
    "* Close the browser tab, then stop the Jupyter Notebook interface using **Ctrl+C** in the Miniconda command line.\n",
    "* Re-open the notebook you just created, using a command such as `jupyter notebook code_01.ipynb`.\n",
    "```"
   ]
  },
  {
   "cell_type": "markdown",
   "metadata": {},
   "source": [
    "(jupyter-cell-types)=\n",
    "### Cell types"
   ]
  },
  {
   "cell_type": "markdown",
   "metadata": {},
   "source": [
    "Jupyter notebooks are composed of *cells*. There are two types of cells:\n",
    "\n",
    "* Code cells\n",
    "* Non-code cells, also known as Markdown cells"
   ]
  },
  {
   "cell_type": "markdown",
   "metadata": {},
   "source": [
    "You can distinguish between code cells and non-code cells, by the `In [...]` part displayed to the left of code cells ({numref}`python-jupyter`)."
   ]
  },
  {
   "cell_type": "markdown",
   "metadata": {},
   "source": [
    "*Code cells* contain Python code, which can be executed, possibly displaying the result immediately below the cell. We elaborate on code execution ({ref}`executing-cells`) and code output ({ref}`jupyter-code-output`) below."
   ]
  },
  {
   "cell_type": "markdown",
   "metadata": {},
   "source": [
    "*Markdown cells* contain text, typically explanations, or background information, describing the code. Markdown cells follow the [Markdown syntax](https://en.wikipedia.org/wiki/Markdown), so in addition to plain text they may display headings, bold or italic text, bullet lists, tables, URLs, and so on. For example, the online version of the book you are reading right now is prepared from a set of Jupyter notebooks (one for each chapter), where all contents other then code are set using Markdown syntax. You can download the source `.ipynb` files ({numref}`download-ipynb-button`) to see how various elements, such as bullet lists, tables, etc., are specified."
   ]
  },
  {
   "cell_type": "markdown",
   "metadata": {},
   "source": [
    "### Working modes"
   ]
  },
  {
   "cell_type": "markdown",
   "metadata": {},
   "source": [
    "There are two \"modes\" when working inside a notebook: \n",
    "\n",
    "* Navigation mode\n",
    "* Cell editing mode "
   ]
  },
  {
   "cell_type": "markdown",
   "metadata": {},
   "source": [
    "You can switch between the two modes as follows: \n",
    "\n",
    "* When in the navigation mode, you can enter *editing mode* by pressing **Enter**. That way, you can edit the current cell. \n",
    "* To exit editing mode, and return to *navigation mode*, press **Esc**."
   ]
  },
  {
   "cell_type": "markdown",
   "metadata": {},
   "source": [
    "When in *navigation* mode, there are quite a few things, related to cell organization, that you can do. The most common operations are summarized in {numref}`notebook-operations`."
   ]
  },
  {
   "cell_type": "markdown",
   "metadata": {},
   "source": [
    "```{table} Common \"navigation mode\" operations in a Python notebook\n",
    ":name: notebook-operations\n",
    "\n",
    "| Keyboard shortcut | Operation |\n",
    "|---|---|\n",
    "| **↑** / **↓** | Navigate between cells |\n",
    "| **A** | Create new cell *above* current one |\n",
    "| **B** | Create new cell *below* current one |\n",
    "| **D**, **D** | Delete current cell |\n",
    "| **Y** | Convert the current cell to a *code* cell |\n",
    "| **M** | Convert the current cell to a *markdown* cell |\n",
    "| **C** | \"Copy\" current  cell | \n",
    "| **X** | \"Cut\" current cell |\n",
    "| **V** | \"Paste\" the copied or cut cell, below current cell |\n",
    "```"
   ]
  },
  {
   "cell_type": "markdown",
   "metadata": {},
   "source": [
    "When in *editing* mode, you can type or edit cell contents, much like in a plain text editor. If the cell is a code cell, then the text is interpreted as Python code. If the cell is a markdown cell, then the text is interpreted as markdown text."
   ]
  },
  {
   "cell_type": "markdown",
   "metadata": {},
   "source": [
    "(executing-cells)=\n",
    "### Executing cells"
   ]
  },
  {
   "cell_type": "markdown",
   "metadata": {},
   "source": [
    "You can execute a cell by pressing **Ctrl+Enter**, or **Shift+Enter**. The difference between the two is that the latter advances to the next cell ({numref}`notebook-operations2`). These keyboard shortcuts work in both editing and navigation modes. \n",
    "\n",
    "* When executing a *code* cell, the code is sent to the underlying Python interpreter, and the result (if any) is displayed below the cell. \n",
    "* When executing a *markdown* cell, the text is rendered, so that any formatting (such as bold text marked with `**`) is displayed"
   ]
  },
  {
   "cell_type": "markdown",
   "metadata": {},
   "source": [
    "```{table} Cell execution operations in a Python notebook\n",
    ":name: notebook-operations2\n",
    "\n",
    "| Keyboard shortcut | Operation |\n",
    "|---|---|\n",
    "| **Ctrl+Enter** | Execute current cell |\n",
    "| **Shift+Enter** | Execute current cell & advance |\n",
    "```"
   ]
  },
  {
   "cell_type": "markdown",
   "metadata": {},
   "source": [
    "Note that you can navigate between cells, skip cells, and execute the cells in a notebook, in any order you choose. The Python process in the background keeps track of the current state of the environment as a result of all code you have run so far. You can always *reset* the environment using the **Kernel**→**Restart** button in the menu. In general, it makes sense to write the notebook assuming the cells will be executed in the given order. To run the entire notebook, from start to finish, you can use the **Kernel**→**Restart & Run All** button."
   ]
  },
  {
   "cell_type": "markdown",
   "metadata": {},
   "source": [
    "```{admonition} Exercise 01-b\n",
    ":class: important\n",
    "* Create a Jupyter notebook and try the operations described above, as follows.\n",
    "* Create two or more code cells, and two or more markdown cells\n",
    "* Type some code into the code cells, and execute it using **Ctrl+Enter**. We have not learned any Python syntax yet. For now, you can insert the code expressions shown above to create and type a list (see {ref}`python-command-line`), or arithmetic expressions such as `10+5`.\n",
    "* Type text into the markdown cells and \"execute\" them too to display the text. (You can also check out markdown syntax rules online and use them to format your text.)\n",
    "* Delete one of the cells by pressing the **D** key twice.\n",
    "```"
   ]
  },
  {
   "cell_type": "markdown",
   "metadata": {},
   "source": [
    "(jupyter-code-output)=\n",
    "### Code output"
   ]
  },
  {
   "cell_type": "markdown",
   "metadata": {},
   "source": [
    "Code output appears below a code cell, in case it has already been executed. It is important to understand that a Jupyter Notebook, in an `.ipynb` file, may store code *as well as* output. This is unlike a plain Python script, in a `.py` file (see {ref}`script-files`), which stores just Python code, withouth any output. You can always remove all outputs from a notebook using the **Kernel**→**Restart & Clear Output** button. Alternatively, you can use the **Kernel**→**Restart & Run All** button to run the entire notebook from start to finish, thus calculating (or updating) all code outputs at once."
   ]
  },
  {
   "cell_type": "markdown",
   "metadata": {},
   "source": [
    "Usually, code output in a Jupyter notebook is just textual, in which case it is displayed in the notebook exactly the same way as it would appear in a Python command line (see {ref}`python-command-line`), or in an IPython command line (see {ref}`ipython`). However, since Jupyter notebooks are displayed in a web browser, they are able to dispay many other types of non-textual output that the command line cannot display. For example, Jupyter notebooks can display images such as plots or maps ({numref}`python-jupyter-exercise`), which result from Python functions."
   ]
  },
  {
   "cell_type": "markdown",
   "metadata": {},
   "source": [
    "### Exporting"
   ]
  },
  {
   "cell_type": "markdown",
   "metadata": {},
   "source": [
    "A Jupyter notebook can be *exported* into several formats, using the **File**→**Download as** menu. From there, choose the output format. For example, you can export a Jupyter notebook as:\n",
    "\n",
    "* An HTML (`.html`) document, to place in a website\n",
    "* A PDF (`.pdf`) document, to share with colleagues\n",
    "* A Python script (`.py`), to run in the command line (see {ref}`script-files`)"
   ]
  },
  {
   "cell_type": "markdown",
   "metadata": {},
   "source": [
    "(packages)=\n",
    "## Python packages"
   ]
  },
  {
   "cell_type": "markdown",
   "metadata": {},
   "source": [
    "### What are packages?"
   ]
  },
  {
   "cell_type": "markdown",
   "metadata": {},
   "source": [
    "Packages are code collections that we can import in our Python script, or a Jupyter notebook, to make the functions defined there available to us. "
   ]
  },
  {
   "cell_type": "markdown",
   "metadata": {},
   "source": [
    "The Python installation comes with numerous built-in packages, known as Python's *standard library* (<https://docs.python.org/3/library/>). For example, the `csv` package, which provides a basic method of reading CSV files, is part of the standard library (see {ref}`reading-csv-files`). Packages from the standard library, such as `csv`, do not need to be installed. However, they need to be loaded before use (see {ref}`loading-packages`)."
   ]
  },
  {
   "cell_type": "markdown",
   "metadata": {},
   "source": [
    "There are many Python packages that are not part of the standard Python installation, known as *third-party* packages, or external packages. For example, `pandas` is a third-party Python package which has more advanced methods for reading CSV files than the `csv` package (see {ref}`pandas-reading-from-file`). Since third-party packages are not part of the Python installation, they need to be installed in a separate step (see {ref}`installing-packages`). Once installed, third-party packages need to be loaded before use (see {ref}`loading-packages`), just like standard packages."
   ]
  },
  {
   "cell_type": "markdown",
   "metadata": {},
   "source": [
    "(installing-packages)=\n",
    "### Installing packages"
   ]
  },
  {
   "cell_type": "markdown",
   "metadata": {},
   "source": [
    "When using Miniconda, Python packages can be installed from the Miniconda command line, using an expression such as:"
   ]
  },
  {
   "cell_type": "markdown",
   "metadata": {},
   "source": [
    "```sh\n",
    "conda install -c conda-forge PACKAGE\n",
    "```"
   ]
  },
  {
   "cell_type": "markdown",
   "metadata": {},
   "source": [
    "where the word `PACKAGE` needs to be replaced with the package name. For example, here is the specific expression that can be used to install the `geopandas` package:"
   ]
  },
  {
   "cell_type": "markdown",
   "metadata": {},
   "source": [
    "```sh\n",
    "conda install -c conda-forge geopandas\n",
    "```"
   ]
  },
  {
   "cell_type": "markdown",
   "metadata": {},
   "source": [
    "To run the examples in this book, you need to install several packages, most importantly `geopandas` and `rasterio`. Installing `geopandas` installs several dependencies that we are going to use, such as `numpy`, `pandas` and `shapely`. Other packages we are going to use, and need to be installed, include `matplotlib`, `rasterstats`, `richdem`, and `scipy`. "
   ]
  },
  {
   "cell_type": "markdown",
   "metadata": {},
   "source": [
    "Installing the packages one by one is time-consuming and prone to installation issues due to conflicting package versions. A more standardized approach is to install all required packages at once, by passing a `requirements.txt` file, which lists packages and version numbers to be installed. To install the packages that we are going to use in this book, navigate to the folder which contains the included `requirements.txt` file (see {numref}`datasets`), then run the following command:"
   ]
  },
  {
   "cell_type": "markdown",
   "metadata": {},
   "source": [
    "```sh\n",
    "conda install -c conda-forge --file requirements.txt\n",
    "```"
   ]
  },
  {
   "cell_type": "markdown",
   "metadata": {},
   "source": [
    "As part of the installation you will see a printout of the package dependencies and versions that are going to be installed. Type `y` (yes) and press **Enter** to approve and proceed with the installation ({numref}`miniconda-install`)."
   ]
  },
  {
   "cell_type": "markdown",
   "metadata": {},
   "source": [
    "As mentioned above, the Minoconda command line must be started *as administrator* when installing packages (see {ref}`jupyter`)."
   ]
  },
  {
   "cell_type": "markdown",
   "metadata": {},
   "source": [
    "```{figure} images/miniconda_install.png\n",
    "---\n",
    "name: miniconda-install\n",
    "---\n",
    "Installing Python packages using `conda install` on the miniconda command line\n",
    "```"
   ]
  },
  {
   "cell_type": "markdown",
   "metadata": {},
   "source": [
    "```{note}\n",
    "When installing Python packages, it is considered best practice to work with *environments*. An environment can be thought of as an isolated space with a particular Python installation and a particular set of packages with specific versions. The user can create independent environments for different purposes. That way, any possible incompatibilities between Python packages are minimized. The concept of environments is beyond the scope of this book, but you can check out the basics in: <https://docs.conda.io/projects/conda/en/latest/user-guide/getting-started.html#managing-environments>.\n",
    "```"
   ]
  },
  {
   "cell_type": "markdown",
   "metadata": {},
   "source": [
    "(loading-packages)=\n",
    "### Loading packages"
   ]
  },
  {
   "cell_type": "markdown",
   "metadata": {},
   "source": [
    "A package can be loaded in two basic ways. In the *first* approach, we can import an entire package namespace, making all of the contents available in our script using `import`. For example, here is how we import the `shapely.geometry` package[^subpackage] (which we are going to learn about in {ref}`shapely`):"
   ]
  },
  {
   "cell_type": "markdown",
   "metadata": {},
   "source": [
    "[^subpackage]: Strictly speaking, `shapely.geometry` is a sub-package, comprising a part of the installation of the `shapely` package (along with other sub-packages)."
   ]
  },
  {
   "cell_type": "code",
   "execution_count": 3,
   "metadata": {},
   "outputs": [],
   "source": [
    "import shapely.geometry"
   ]
  },
  {
   "cell_type": "markdown",
   "metadata": {},
   "source": [
    "Afterwards, we can access any function from the package, by typing `shapely.geometry.X`. For example:"
   ]
  },
  {
   "cell_type": "code",
   "execution_count": 4,
   "metadata": {},
   "outputs": [
    {
     "data": {
      "image/svg+xml": "<svg xmlns=\"http://www.w3.org/2000/svg\" xmlns:xlink=\"http://www.w3.org/1999/xlink\" width=\"100.0\" height=\"100.0\" viewBox=\"-1.0 0.0 2.0 2.0\" preserveAspectRatio=\"xMinYMin meet\"><g transform=\"matrix(1,0,0,-1,0,2.0)\"><circle cx=\"0.0\" cy=\"1.0\" r=\"0.06\" stroke=\"#555555\" stroke-width=\"0.02\" fill=\"#66cc99\" opacity=\"0.6\" /></g></svg>",
      "text/plain": [
       "<shapely.geometry.point.Point at 0x7f7461acc340>"
      ]
     },
     "execution_count": 4,
     "metadata": {},
     "output_type": "execute_result"
    }
   ],
   "source": [
    "shapely.geometry.Point((0, 1))"
   ]
  },
  {
   "cell_type": "markdown",
   "metadata": {},
   "source": [
    "It is common practice to import a package under a different name which is shorter to type, using the `import package as name` expression. For example, if we import the `shapely.geometry` package under the name `sg`: "
   ]
  },
  {
   "cell_type": "code",
   "execution_count": 6,
   "metadata": {},
   "outputs": [],
   "source": [
    "import shapely.geometry as sg"
   ]
  },
  {
   "cell_type": "markdown",
   "metadata": {},
   "source": [
    "we can access all of the functions in it using `sg.*`, instead of `shapely.geometry.*`:"
   ]
  },
  {
   "cell_type": "code",
   "execution_count": 7,
   "metadata": {},
   "outputs": [
    {
     "data": {
      "image/svg+xml": "<svg xmlns=\"http://www.w3.org/2000/svg\" xmlns:xlink=\"http://www.w3.org/1999/xlink\" width=\"100.0\" height=\"100.0\" viewBox=\"-1.0 0.0 2.0 2.0\" preserveAspectRatio=\"xMinYMin meet\"><g transform=\"matrix(1,0,0,-1,0,2.0)\"><circle cx=\"0.0\" cy=\"1.0\" r=\"0.06\" stroke=\"#555555\" stroke-width=\"0.02\" fill=\"#66cc99\" opacity=\"0.6\" /></g></svg>",
      "text/plain": [
       "<shapely.geometry.point.Point at 0x7f7461acc640>"
      ]
     },
     "execution_count": 7,
     "metadata": {},
     "output_type": "execute_result"
    }
   ],
   "source": [
    "sg.Point((0, 1))"
   ]
  },
  {
   "cell_type": "markdown",
   "metadata": {},
   "source": [
    "In the *second* approach, we can import just a particular function, using `from` and `import`:"
   ]
  },
  {
   "cell_type": "code",
   "execution_count": 8,
   "metadata": {},
   "outputs": [],
   "source": [
    "from shapely.geometry import Point"
   ]
  },
  {
   "cell_type": "markdown",
   "metadata": {},
   "source": [
    "After that, we can refer to the particular function(s) we imported by their name alone, as in:"
   ]
  },
  {
   "cell_type": "code",
   "execution_count": 9,
   "metadata": {},
   "outputs": [
    {
     "data": {
      "image/svg+xml": "<svg xmlns=\"http://www.w3.org/2000/svg\" xmlns:xlink=\"http://www.w3.org/1999/xlink\" width=\"100.0\" height=\"100.0\" viewBox=\"-1.0 0.0 2.0 2.0\" preserveAspectRatio=\"xMinYMin meet\"><g transform=\"matrix(1,0,0,-1,0,2.0)\"><circle cx=\"0.0\" cy=\"1.0\" r=\"0.06\" stroke=\"#555555\" stroke-width=\"0.02\" fill=\"#66cc99\" opacity=\"0.6\" /></g></svg>",
      "text/plain": [
       "<shapely.geometry.point.Point at 0x7f7461acca00>"
      ]
     },
     "execution_count": 9,
     "metadata": {},
     "output_type": "execute_result"
    }
   ],
   "source": [
    "Point((0, 1))"
   ]
  },
  {
   "cell_type": "markdown",
   "metadata": {},
   "source": [
    "We can also import several functions at once, separated by commas:"
   ]
  },
  {
   "cell_type": "code",
   "execution_count": 10,
   "metadata": {},
   "outputs": [],
   "source": [
    "from shapely.geometry import Point, Polygon"
   ]
  },
  {
   "cell_type": "markdown",
   "metadata": {},
   "source": [
    "and we can import functions under a different name:"
   ]
  },
  {
   "cell_type": "code",
   "execution_count": 11,
   "metadata": {},
   "outputs": [],
   "source": [
    "from shapely.geometry import Point as pnt, Polygon as pol"
   ]
  },
  {
   "cell_type": "markdown",
   "metadata": {},
   "source": [
    "The advantage of importing specific function(s) from a package, as opposed to importing an entire package, is that the code is concise, and that it is evident from the beginning which specific functions the code uses. The disadvantage is that we can only use the specific function we imported, and not any other functions from the package. In this book we will mostly use the first approach (importing an entire package), because:\n",
    "* we will be using many different functions from each package throughout the examples, and \n",
    "* to make it clear which package each new function we learn about comes from."
   ]
  },
  {
   "cell_type": "markdown",
   "metadata": {},
   "source": [
    "(file-paths)=\n",
    "## File paths"
   ]
  },
  {
   "cell_type": "markdown",
   "metadata": {},
   "source": [
    "At first, the simple Python scripts we are going to write will be self-contained, in the sense that the data they operate on are created as part of the script itself, and the results are not saved to permanent strage (e.g., on the hard disk). However, in realistic data analysis it is often necessary to:\n",
    "* *import* existing data from disk at the beginning of the script, and to \n",
    "* *export* the results to a file on disk at the end."
   ]
  },
  {
   "cell_type": "markdown",
   "metadata": {},
   "source": [
    "For example, a script that transforms a CSV file with lon/lat columns into a point Shapefile (see below) will be composed of the following parts:\n",
    "\n",
    "* Import the CSV file (see {ref}`pandas-reading-from-file`)\n",
    "* Transform the table to a point layer (see {ref}`point-layer-from-table`)\n",
    "* Export the point layer to a Shapefile (see {ref}`geopandas-writing`)"
   ]
  },
  {
   "cell_type": "code",
   "execution_count": 3,
   "metadata": {},
   "outputs": [],
   "source": [
    "import pandas as pd\n",
    "import geopandas as gpd\n",
    "dat = pd.read_csv(\"data/world_cities.csv\")  ## Import CSV file\n",
    "geom = gpd.points_from_xy(dat[\"lon\"], dat[\"lat\"])\n",
    "geom = gpd.GeoSeries(geom)\n",
    "dat = gpd.GeoDataFrame(dat, geometry = gpd.GeoSeries(geom), crs = 4326)\n",
    "dat.to_file(\"output/world_cities.shp\")      ## Export Shapefile"
   ]
  },
  {
   "cell_type": "markdown",
   "metadata": {},
   "source": [
    "```{admonition} Exercise 01-c\n",
    ":class: important\n",
    "* What is the purpose of the first two expressions in the above code section? Explain what they do.\n",
    "```"
   ]
  },
  {
   "cell_type": "markdown",
   "metadata": {},
   "source": [
    "Do not worry about the functions and methods used in the code, as we are going to cover them in detail throughout the following chapters. For now, pay attention just to the the file paths: \n",
    "\n",
    "* `\"data/world_cities.csv\"`—Path to the CSV file to *import*\n",
    "* `\"output/world.cities.shp\"`—Path of the Shapefile to *export*"
   ]
  },
  {
   "cell_type": "markdown",
   "metadata": {},
   "source": [
    "In general, when reading or writing a file in a Python script, we need to refer to the file location, or the *file path*. There are two basic ways to specify a file path:\n",
    "\n",
    "* An *absolute path*, such as `\"C:/Users/dorman/Downloads/data/world_cities.csv\"`\n",
    "* A *relative* path, such as `\"data/world_cities.csv\"` or `\"world_cities.csv\"`"
   ]
  },
  {
   "cell_type": "markdown",
   "metadata": {},
   "source": [
    "Note that, in Python code, unlike in the Miniconda command line (see {ref}`using-miniconda-command-line`), you must use `/`, and *not* `\\` when writing file paths!"
   ]
  },
  {
   "cell_type": "markdown",
   "metadata": {},
   "source": [
    "```{note}\n",
    "In this book, we specify file paths using a `string` with path components separated by `/`. This is the simplest method, and it is sufficient for our needs. The best practice, however, is to use the `pathlib` standard package, which has many more feaures for handling and manipulating paths. For more details, see the [documentation](https://docs.python.org/3/library/pathlib.html).\n",
    "```"
   ]
  },
  {
   "cell_type": "markdown",
   "metadata": {},
   "source": [
    "In an *absolute* path, we specify the complete path starting from the file system \"root\" and up to the file location. On Windows, this means we start from the drive specification (such as `\"C:/\"`), then specify any directories and sub-directories, separated by `/`, and finally the file name. For example, the absolute file path `\"C:/Users/dorman/Downloads/data/world_cities.csv\"` means that we refer to: \n",
    "\n",
    "* the file named `world_cities.csv`, \n",
    "* which is located in the `data` directory, \n",
    "* which is located in the `Downloads` directory, \n",
    "* which is located in the `dorman` directory, \n",
    "* which is located in the `Users` directory, \n",
    "* which is located in drive `C:`."
   ]
  },
  {
   "cell_type": "markdown",
   "metadata": {},
   "source": [
    "In a *relative* path, we specify a partial path that begins with the script, or notebook, location. For example, the relative path `\"data/world_cities.csv\"` means that we refer to: \n",
    "\n",
    "* the file named `\"world_cities.csv\"`, \n",
    "* which is located in the `\"data\"` directory, \n",
    "* which is located in the directory where our script is. "
   ]
  },
  {
   "cell_type": "markdown",
   "metadata": {},
   "source": [
    "Specifying the just a file name, such as `\"world_cities.csv\"` is a special case of a relative path, meaning that the file is located in the same directory where our script is."
   ]
  },
  {
   "cell_type": "markdown",
   "metadata": {},
   "source": [
    "When writing code, relative path are usually preferred, because they are more *general*. For example, when sending a script along with a `data` directory where the data are to a colleague, a relative file path such as `\"data/world_cities.csv\"` will work regardless of the directory name where the colleague saved the script and `data` directory, as long as they are \"together\". However, when a script contains an absolute file path, such `\"C:/Users/dorman/Downloads/data/world_cities.csv\"`, it is much less likely to work as-is, unless the colleague saves the file `world_cities.csv` in exactly the same location as specified in the script."
   ]
  },
  {
   "cell_type": "markdown",
   "metadata": {},
   "source": [
    "In agreement with the recommendation, in all code samples in this book, we are going to use relative file paths starting with `data`, such as `\"data/world_cities.csv\"`. To reproduce the examples in the book, you can: \n",
    "\n",
    "* Download the sample data files (see {ref}`sample-data`) and save them in a sub-directory named `data` inside the directory on your computer.\n",
    "* Download the `.ipynb` notebook file of any particular chapter, using the \"download\" button (in the top-left of the web page) and choosing the `.ipynb` option ({numref}`download-ipynb-button`).\n",
    "* Open the notebook in the Jypyter Notebook interface (see {ref}`jupyter`)."
   ]
  },
  {
   "cell_type": "markdown",
   "metadata": {},
   "source": [
    "Of course you can use any other location for the data, but then you also need to change the file paths, accordingly."
   ]
  },
  {
   "cell_type": "markdown",
   "metadata": {},
   "source": [
    "```{figure} images/download_ipynb_button.png\n",
    "---\n",
    "name: download-ipynb-button\n",
    "---\n",
    "Button to download the `.ipynb` source of a book chapter\n",
    "```"
   ]
  },
  {
   "cell_type": "markdown",
   "metadata": {},
   "source": [
    "(code-comments)=\n",
    "## Code comments"
   ]
  },
  {
   "cell_type": "markdown",
   "metadata": {},
   "source": [
    "Code comments in Python are marked with `#`. Anything to the right of the `#` symbol is ignored by the interpreter. Code comments are usually used to describe the intention in an entire code section:"
   ]
  },
  {
   "cell_type": "code",
   "execution_count": 1,
   "metadata": {},
   "outputs": [
    {
     "name": "stdout",
     "output_type": "stream",
     "text": [
      "[1, 2, 3]\n"
     ]
    }
   ],
   "source": [
    "# List of selected numbers\n",
    "a = [1,2,3]\n",
    "print(a)"
   ]
  },
  {
   "cell_type": "markdown",
   "metadata": {},
   "source": [
    "or in specific expressions:"
   ]
  },
  {
   "cell_type": "code",
   "execution_count": 2,
   "metadata": {},
   "outputs": [
    {
     "name": "stdout",
     "output_type": "stream",
     "text": [
      "[1, 2, 3]\n"
     ]
    }
   ],
   "source": [
    "a = [1,2,3]  # List of selected numbers\n",
    "print(a)"
   ]
  },
  {
   "cell_type": "markdown",
   "metadata": {},
   "source": [
    "Code comments should optimally provide useful information that is not evident from the code itself. For example, this is a useful code comment:"
   ]
  },
  {
   "cell_type": "code",
   "execution_count": 3,
   "metadata": {},
   "outputs": [],
   "source": [
    "d = 5  # Distance in kilometers"
   ]
  },
  {
   "cell_type": "markdown",
   "metadata": {},
   "source": [
    "while this is not very useful:"
   ]
  },
  {
   "cell_type": "code",
   "execution_count": 4,
   "metadata": {},
   "outputs": [],
   "source": [
    "d = 5  # Assign 5 to 'x'"
   ]
  },
  {
   "cell_type": "markdown",
   "metadata": {},
   "source": [
    "(getting-help)=\n",
    "## Getting help"
   ]
  },
  {
   "cell_type": "markdown",
   "metadata": {},
   "source": [
    "When learning a new programming language, one of the most important skills is finding answers to questions. Accordingly, when reading this book keep in mind that the purpose is to become familiar with the general principles and workflow types involving spatial data in Python. There is no need to memorize the material, because once you are familiar with the fundamentals you will be able to formulate the right question to search online (e.g., in Google)."
   ]
  },
  {
   "cell_type": "markdown",
   "metadata": {},
   "source": [
    "Some quick questions can be answered offline, using Pythons' built-in help methods. For example, you can get a concise summary of any built-in function, or any other object, using Pythons' built-in `help` function:"
   ]
  },
  {
   "cell_type": "code",
   "execution_count": 2,
   "metadata": {},
   "outputs": [
    {
     "name": "stdout",
     "output_type": "stream",
     "text": [
      "Help on built-in function len in module builtins:\n",
      "\n",
      "len(obj, /)\n",
      "    Return the number of items in a container.\n",
      "\n"
     ]
    }
   ],
   "source": [
    "help(len)"
   ]
  },
  {
   "cell_type": "markdown",
   "metadata": {},
   "source": [
    "There is an alternative, IPython-specific, method, to get help, using an expression of the form `function?`. i.e., a function name followed by `?`. For example, try running `range?` in a Jupyter notebook to see the help text for the `range` function (see {ref}`range`)."
   ]
  },
  {
   "cell_type": "markdown",
   "metadata": {},
   "source": [
    "It should be noted that built-in help pages tend to be concise and use many technical terms, which can be difficult for beginners. It is often more helpful to search the function name on Google to view more user-friendly resources, such as online tutorials ({numref}`google-python-range`)."
   ]
  },
  {
   "cell_type": "markdown",
   "metadata": {},
   "source": [
    "```{figure} images/google_python_range.png\n",
    "---\n",
    "name: google-python-range\n",
    "---\n",
    "Results for search term \"python range\" on <https://www.google.com/>\n",
    "```"
   ]
  },
  {
   "cell_type": "markdown",
   "metadata": {},
   "source": [
    "(exercise-setup)=\n",
    "## More exercises"
   ]
  },
  {
   "cell_type": "markdown",
   "metadata": {},
   "source": [
    "```{admonition} Exercise 01-d\n",
    ":class: important\n",
    "* Start the Jupyter notebook server according to the instructions above.\n",
    "* Create a new notebook.\n",
    "* Create a new cell with the code shown below.\n",
    "* Execute the cell. You should see the output `[1,2,3]` below it.\n",
    "\n",
    "```py\n",
    "a = [1,2,3]\n",
    "print(a)\n",
    "```"
   ]
  },
  {
   "cell_type": "markdown",
   "metadata": {},
   "source": [
    "```{admonition} Exercise 01-e\n",
    ":class: important\n",
    "* Create a cell and with the code shown below. This code section uses the `numpy` package to create an array object (see {ref}`numpy`).\n",
    "* Execute the cell. You should see an array object printout.\n",
    "\n",
    "```python\n",
    "import numpy as np\n",
    "b = np.array([[1,2,3],[4,5,6],[7,8,9],[10,11,12]])\n",
    "b\n",
    "```"
   ]
  },
  {
   "cell_type": "markdown",
   "metadata": {},
   "source": [
    "```{admonition} Exercise 01-f\n",
    ":class: important\n",
    "* Download the {ref}`sample-data`.\n",
    "* Place the data in a sub-directory named `data` inside the directory where your Jupyter notebook is.\n",
    "* Create another cell with the code shown below ({numref}`python-jupyter-exercise`). This code section imports a vector layer from a Shapefile named `muni_il.shp`, and then plots it. \n",
    "* You should see a plot as shown in {numref}`exercise-01-f`.\n",
    "\n",
    "```py\n",
    "import geopandas as gpd\n",
    "towns = gpd.read_file(\"data/muni_il.shp\")\n",
    "towns.plot()\n",
    "```"
   ]
  },
  {
   "cell_type": "markdown",
   "metadata": {},
   "source": [
    "```{figure} images/python_jupyter_exercise.png\n",
    "---\n",
    "name: python-jupyter-exercise\n",
    "---\n",
    "`geopandas` map example in a Jupyter notebook\n",
    "```"
   ]
  },
  {
   "cell_type": "markdown",
   "metadata": {},
   "source": [
    "```{glue:figure} exercise-01-f\n",
    "---\n",
    "name: exercise-01-f\n",
    "---\n",
    "Solution of exercise-01-f: Map of `muni_il.shp` vector layer\n",
    "```"
   ]
  },
  {
   "cell_type": "markdown",
   "metadata": {},
   "source": [
    "```{admonition} Exercise 01-g\n",
    ":class: important\n",
    "* Create another cell with the code shown below. This code section imports a raster from a file named `BSV_res200-M.tif`, and then plots it.\n",
    "* You should see a plot as shown in {numref}`exercise-01-g`.\n",
    "\n",
    "```python\n",
    "import rasterio\n",
    "from rasterio.plot import show\n",
    "r = rasterio.open(\"data/BSV_res200-M.tif\")\n",
    "show(r)\n",
    "```"
   ]
  },
  {
   "cell_type": "markdown",
   "metadata": {},
   "source": [
    "```{glue:figure} exercise-01-g\n",
    "---\n",
    "name: exercise-01-g\n",
    "---\n",
    "Solution of exercise-01-g: Image of `BSV_res200-M.tif` raster\n",
    "```"
   ]
  }
 ],
 "metadata": {
  "interpreter": {
   "hash": "31f2aee4e71d21fbe5cf8b01ff0e069b9275f58929596ceb00d14d90e3e16cd6"
  },
  "kernelspec": {
   "display_name": "Python 3.8.10 64-bit",
   "name": "python3"
  },
  "language_info": {
   "codemirror_mode": {
    "name": "ipython",
    "version": 3
   },
   "file_extension": ".py",
   "mimetype": "text/x-python",
   "name": "python",
   "nbconvert_exporter": "python",
   "pygments_lexer": "ipython3",
   "version": "3.8.10"
  }
 },
 "nbformat": 4,
 "nbformat_minor": 4
}
